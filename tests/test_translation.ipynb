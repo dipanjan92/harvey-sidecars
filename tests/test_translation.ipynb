{
 "cells": [
  {
   "cell_type": "markdown",
   "metadata": {},
   "source": [
    "# Test Japanese to English Translation\n",
    "\n",
    "This notebook tests the translation of Japanese text to English using a MarianMT model from Hugging Face, with local model caching."
   ]
  },
  {
   "cell_type": "code",
   "execution_count": 7,
   "metadata": {},
   "outputs": [
    {
     "name": "stdout",
     "output_type": "stream",
     "text": [
      "Model: Helsinki-NLP/opus-mt-ja-en\n",
      "Custom model path: /Volumes/Work/Apps/harvey/harvey-sidecars/models/translation/ja-en\n",
      "Japanese text: これは日本語のテキストです。\n"
     ]
    }
   ],
   "source": [
    "from transformers import MarianMTModel, MarianTokenizer\n",
    "import os\n",
    "\n",
    "# 1. Define model name and custom download location\n",
    "model_name = 'Helsinki-NLP/opus-mt-ja-en'\n",
    "custom_model_path = os.path.abspath('../models/translation/ja-en') # Use absolute path\n",
    "japanese_text = \"これは日本語のテキストです。\"\n",
    "\n",
    "print(f\"Model: {model_name}\")\n",
    "print(f\"Custom model path: {custom_model_path}\")\n",
    "print(f\"Japanese text: {japanese_text}\")"
   ]
  },
  {
   "cell_type": "code",
   "execution_count": 8,
   "metadata": {},
   "outputs": [
    {
     "name": "stdout",
     "output_type": "stream",
     "text": [
      "Downloading model 'Helsinki-NLP/opus-mt-ja-en' to '/Volumes/Work/Apps/harvey/harvey-sidecars/models/translation/ja-en'...\n"
     ]
    },
    {
     "data": {
      "application/vnd.jupyter.widget-view+json": {
       "model_id": "b88b022c5cb641c2aa39832bec95b442",
       "version_major": 2,
       "version_minor": 0
      },
      "text/plain": [
       "Downloading source.spm:   0%|          | 0.00/782k [00:00<?, ?B/s]"
      ]
     },
     "metadata": {},
     "output_type": "display_data"
    },
    {
     "data": {
      "application/vnd.jupyter.widget-view+json": {
       "model_id": "61f1618bcc584d4681ec023748fc6384",
       "version_major": 2,
       "version_minor": 0
      },
      "text/plain": [
       "Downloading target.spm:   0%|          | 0.00/802k [00:00<?, ?B/s]"
      ]
     },
     "metadata": {},
     "output_type": "display_data"
    },
    {
     "data": {
      "application/vnd.jupyter.widget-view+json": {
       "model_id": "610678c9eb9f48fd9879c8086ae81d53",
       "version_major": 2,
       "version_minor": 0
      },
      "text/plain": [
       "Downloading vocab.json: 0.00B [00:00, ?B/s]"
      ]
     },
     "metadata": {},
     "output_type": "display_data"
    },
    {
     "data": {
      "application/vnd.jupyter.widget-view+json": {
       "model_id": "2ad9e7e679bc4e1baaab85a6f74bc42d",
       "version_major": 2,
       "version_minor": 0
      },
      "text/plain": [
       "Downloading tokenizer_config.json:   0%|          | 0.00/42.0 [00:00<?, ?B/s]"
      ]
     },
     "metadata": {},
     "output_type": "display_data"
    },
    {
     "data": {
      "application/vnd.jupyter.widget-view+json": {
       "model_id": "68c30526c56e4d34a1997fbcd69ad9dc",
       "version_major": 2,
       "version_minor": 0
      },
      "text/plain": [
       "Downloading config.json: 0.00B [00:00, ?B/s]"
      ]
     },
     "metadata": {},
     "output_type": "display_data"
    },
    {
     "data": {
      "application/vnd.jupyter.widget-view+json": {
       "model_id": "25262c7481b7466c8be8a847e8780c56",
       "version_major": 2,
       "version_minor": 0
      },
      "text/plain": [
       "Downloading pytorch_model.bin:   0%|          | 0.00/303M [00:00<?, ?B/s]"
      ]
     },
     "metadata": {},
     "output_type": "display_data"
    },
    {
     "data": {
      "application/vnd.jupyter.widget-view+json": {
       "model_id": "0f93cc70861e496fa1a5bfc65051ff25",
       "version_major": 2,
       "version_minor": 0
      },
      "text/plain": [
       "Downloading generation_config.json:   0%|          | 0.00/293 [00:00<?, ?B/s]"
      ]
     },
     "metadata": {},
     "output_type": "display_data"
    },
    {
     "name": "stdout",
     "output_type": "stream",
     "text": [
      "Model downloaded successfully.\n"
     ]
    }
   ],
   "source": [
    "# 2. Check if the model exists, and if not, download it\n",
    "os.makedirs(custom_model_path, exist_ok=True)\n",
    "\n",
    "config_path = os.path.join(custom_model_path, 'config.json')\n",
    "if not os.path.exists(config_path):\n",
    "    print(f\"Downloading model '{model_name}' to '{custom_model_path}'...\")\n",
    "    tokenizer = MarianTokenizer.from_pretrained(model_name)\n",
    "    model = MarianMTModel.from_pretrained(model_name)\n",
    "    model.save_pretrained(custom_model_path)\n",
    "    tokenizer.save_pretrained(custom_model_path)\n",
    "    print(\"Model downloaded successfully.\")\n",
    "else:\n",
    "    print(f\"Model '{model_name}' already exists at '{custom_model_path}'.\")"
   ]
  },
  {
   "cell_type": "code",
   "execution_count": 11,
   "metadata": {},
   "outputs": [
    {
     "name": "stdout",
     "output_type": "stream",
     "text": [
      "Loading model from local path for translation...\n",
      "Translating...\n",
      "Japanese text: これは日本語のテキストです。\n",
      "English translation: This is Japanese text.\n"
     ]
    }
   ],
   "source": [
    "from transformers import pipeline\n",
    "\n",
    "# 3. Use the model from the downloaded location to translate\n",
    "print(\"Loading model from local path for translation...\")\n",
    "translator = pipeline(\"translation_ja_to_en\", model=custom_model_path)\n",
    "\n",
    "# 4. Translate and print the result\n",
    "print(\"Translating...\")\n",
    "english_translation = translator(japanese_text)\n",
    "\n",
    "print(f\"Japanese text: {japanese_text}\")\n",
    "print(f\"English translation: {english_translation[0]['translation_text']}\")"
   ]
  },
  {
   "cell_type": "code",
   "execution_count": null,
   "metadata": {},
   "outputs": [],
   "source": []
  }
 ],
 "metadata": {
  "kernelspec": {
   "display_name": "base",
   "language": "python",
   "name": "python3"
  },
  "language_info": {
   "codemirror_mode": {
    "name": "ipython",
    "version": 3
   },
   "file_extension": ".py",
   "mimetype": "text/x-python",
   "name": "python",
   "nbconvert_exporter": "python",
   "pygments_lexer": "ipython3",
   "version": "3.11.3"
  }
 },
 "nbformat": 4,
 "nbformat_minor": 4
}
