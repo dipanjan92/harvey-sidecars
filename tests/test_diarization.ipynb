{
 "cells": [
  {
   "cell_type": "markdown",
   "metadata": {},
   "source": [
    "# Hugging Face Login\n",
    "\n",
    "For the first time, you need to log in to Hugging Face from your home directory (`~`) using the following command:\n",
    "\n",
    "```bash\n",
    "huggingface-cli login\n",
    "```"
   ]
  },
  {
   "cell_type": "code",
   "execution_count": 2,
   "metadata": {},
   "outputs": [
    {
     "name": "stderr",
     "output_type": "stream",
     "text": [
      "[src/libmpg123/layer3.c:INT123_do_layer3():1773] error: part2_3_length (3392) too large for available bit count (3352)\n",
      "[src/libmpg123/layer3.c:INT123_do_layer3():1773] error: part2_3_length (2336) too large for available bit count (2200)\n",
      "[src/libmpg123/layer3.c:INT123_do_layer3():1773] error: part2_3_length (1920) too large for available bit count (1912)\n",
      "[src/libmpg123/layer3.c:INT123_do_layer3():1773] error: part2_3_length (1728) too large for available bit count (1624)\n",
      "[src/libmpg123/layer3.c:INT123_do_layer3():1773] error: part2_3_length (3520) too large for available bit count (3352)\n",
      "[src/libmpg123/layer3.c:INT123_do_layer3():1773] error: part2_3_length (1696) too large for available bit count (1624)\n",
      "[src/libmpg123/layer3.c:INT123_do_layer3():1773] error: part2_3_length (1984) too large for available bit count (1912)\n",
      "[src/libmpg123/layer3.c:INT123_do_layer3():1773] error: part2_3_length (1728) too large for available bit count (1624)\n",
      "[src/libmpg123/layer3.c:INT123_do_layer3():1773] error: part2_3_length (1728) too large for available bit count (1624)\n",
      "[src/libmpg123/layer3.c:INT123_do_layer3():1773] error: part2_3_length (1984) too large for available bit count (1912)\n",
      "[src/libmpg123/layer3.c:INT123_do_layer3():1773] error: part2_3_length (1632) too large for available bit count (1624)\n",
      "[src/libmpg123/layer3.c:INT123_do_layer3():1773] error: part2_3_length (2016) too large for available bit count (1912)\n",
      "[src/libmpg123/layer3.c:INT123_do_layer3():1773] error: part2_3_length (1760) too large for available bit count (1624)\n",
      "[src/libmpg123/layer3.c:INT123_do_layer3():1773] error: part2_3_length (1920) too large for available bit count (1912)\n",
      "[src/libmpg123/layer3.c:INT123_do_layer3():1773] error: part2_3_length (1664) too large for available bit count (1624)\n",
      "[src/libmpg123/layer3.c:INT123_do_layer3():1773] error: part2_3_length (1728) too large for available bit count (1624)\n",
      "[src/libmpg123/layer3.c:INT123_do_layer3():1773] error: part2_3_length (1632) too large for available bit count (1624)\n",
      "[src/libmpg123/layer3.c:INT123_do_layer3():1773] error: part2_3_length (1760) too large for available bit count (1624)\n",
      "[src/libmpg123/layer3.c:INT123_do_layer3():1773] error: part2_3_length (1696) too large for available bit count (1624)\n",
      "[src/libmpg123/layer3.c:INT123_do_layer3():1773] error: part2_3_length (1664) too large for available bit count (1624)\n",
      "[src/libmpg123/layer3.c:INT123_do_layer3():1773] error: part2_3_length (1920) too large for available bit count (1912)\n",
      "[src/libmpg123/layer3.c:INT123_do_layer3():1773] error: part2_3_length (1760) too large for available bit count (1624)\n",
      "[src/libmpg123/layer3.c:INT123_do_layer3():1773] error: part2_3_length (2048) too large for available bit count (1912)\n",
      "[src/libmpg123/layer3.c:INT123_do_layer3():1773] error: part2_3_length (1696) too large for available bit count (1624)\n",
      "[src/libmpg123/layer3.c:INT123_do_layer3():1773] error: part2_3_length (3168) too large for available bit count (2776)\n",
      "[src/libmpg123/layer3.c:INT123_do_layer3():1773] error: part2_3_length (2048) too large for available bit count (1912)\n",
      "[src/libmpg123/layer3.c:INT123_do_layer3():1773] error: part2_3_length (2208) too large for available bit count (2200)\n",
      "[src/libmpg123/layer3.c:INT123_do_layer3():1773] error: part2_3_length (1664) too large for available bit count (1624)\n",
      "[src/libmpg123/layer3.c:INT123_do_layer3():1773] error: part2_3_length (1920) too large for available bit count (1912)\n",
      "[src/libmpg123/layer3.c:INT123_do_layer3():1773] error: part2_3_length (2208) too large for available bit count (2200)\n",
      "[src/libmpg123/layer3.c:INT123_do_layer3():1773] error: part2_3_length (1632) too large for available bit count (1624)\n",
      "[src/libmpg123/layer3.c:INT123_do_layer3():1773] error: part2_3_length (3200) too large for available bit count (2776)\n",
      "[src/libmpg123/layer3.c:INT123_do_layer3():1773] error: part2_3_length (3136) too large for available bit count (2776)\n",
      "[src/libmpg123/layer3.c:INT123_do_layer3():1773] error: part2_3_length (2912) too large for available bit count (2776)\n",
      "[src/libmpg123/layer3.c:INT123_do_layer3():1773] error: part2_3_length (3104) too large for available bit count (2776)\n",
      "[src/libmpg123/layer3.c:INT123_do_layer3():1773] error: part2_3_length (1952) too large for available bit count (1912)\n",
      "[src/libmpg123/layer3.c:INT123_do_layer3():1773] error: part2_3_length (3648) too large for available bit count (3352)\n",
      "[src/libmpg123/layer3.c:INT123_do_layer3():1773] error: part2_3_length (2976) too large for available bit count (2776)\n",
      "[src/libmpg123/layer3.c:INT123_do_layer3():1773] error: part2_3_length (2016) too large for available bit count (1912)\n",
      "[src/libmpg123/layer3.c:INT123_do_layer3():1773] error: part2_3_length (1824) too large for available bit count (1624)\n",
      "[src/libmpg123/layer3.c:INT123_do_layer3():1773] error: part2_3_length (3040) too large for available bit count (2776)\n",
      "[src/libmpg123/layer3.c:INT123_do_layer3():1773] error: part2_3_length (2016) too large for available bit count (1912)\n",
      "[src/libmpg123/layer3.c:INT123_do_layer3():1773] error: part2_3_length (2048) too large for available bit count (1912)\n",
      "[src/libmpg123/layer3.c:INT123_do_layer3():1773] error: part2_3_length (2240) too large for available bit count (2200)\n",
      "[src/libmpg123/layer3.c:INT123_do_layer3():1773] error: part2_3_length (1952) too large for available bit count (1912)\n",
      "[src/libmpg123/layer3.c:INT123_do_layer3():1773] error: part2_3_length (2368) too large for available bit count (2200)\n",
      "[src/libmpg123/layer3.c:INT123_do_layer3():1773] error: part2_3_length (2528) too large for available bit count (2200)\n",
      "[src/libmpg123/layer3.c:INT123_do_layer3():1773] error: part2_3_length (3040) too large for available bit count (2776)\n",
      "[src/libmpg123/layer3.c:INT123_do_layer3():1773] error: part2_3_length (1920) too large for available bit count (1912)\n"
     ]
    }
   ],
   "source": [
    "from pyannote.audio import Pipeline\n",
    "import torch\n",
    "\n",
    "audio_file = '../sample_data/audio.mp3'\n",
    "output_rttm = 'output.rttm'\n",
    "num_speakers = 0 # Set to 0 to let the model detect the number of speakers\n",
    "\n",
    "pipeline = Pipeline.from_pretrained(\n",
    "    \"pyannote/speaker-diarization-3.1\",\n",
    "    use_auth_token=True,\n",
    "    )\n",
    "\n",
    "# apply the pipeline to an audio file\n",
    "if num_speakers > 0:\n",
    "    diarization = pipeline(audio_file, num_speakers=num_speakers)\n",
    "else:\n",
    "    diarization = pipeline(audio_file)\n",
    "\n",
    "# dump the diarization output to disk using RTTM format\n",
    "with open(output_rttm, \"w\") as rttm:\n",
    "    diarization.write_rttm(rttm)"
   ]
  },
  {
   "cell_type": "code",
   "execution_count": 3,
   "metadata": {},
   "outputs": [
    {
     "name": "stdout",
     "output_type": "stream",
     "text": [
      "SPEAKER audio 1 0.031 3.291 <NA> <NA> SPEAKER_01 <NA> <NA>\n",
      "SPEAKER audio 1 3.828 5.501 <NA> <NA> SPEAKER_01 <NA> <NA>\n",
      "SPEAKER audio 1 10.392 7.779 <NA> <NA> SPEAKER_01 <NA> <NA>\n",
      "SPEAKER audio 1 18.172 0.878 <NA> <NA> SPEAKER_00 <NA> <NA>\n",
      "SPEAKER audio 1 19.657 40.500 <NA> <NA> SPEAKER_00 <NA> <NA>\n",
      "SPEAKER audio 1 24.618 1.772 <NA> <NA> SPEAKER_01 <NA> <NA>\n",
      "SPEAKER audio 1 60.325 1.434 <NA> <NA> SPEAKER_01 <NA> <NA>\n",
      "SPEAKER audio 1 62.047 17.685 <NA> <NA> SPEAKER_01 <NA> <NA>\n",
      "SPEAKER audio 1 79.985 4.118 <NA> <NA> SPEAKER_00 <NA> <NA>\n",
      "SPEAKER audio 1 80.423 0.456 <NA> <NA> SPEAKER_01 <NA> <NA>\n",
      "SPEAKER audio 1 84.507 19.491 <NA> <NA> SPEAKER_00 <NA> <NA>\n",
      "SPEAKER audio 1 88.220 1.181 <NA> <NA> SPEAKER_01 <NA> <NA>\n",
      "SPEAKER audio 1 95.240 0.118 <NA> <NA> SPEAKER_01 <NA> <NA>\n",
      "SPEAKER audio 1 95.476 0.101 <NA> <NA> SPEAKER_01 <NA> <NA>\n",
      "SPEAKER audio 1 100.623 0.068 <NA> <NA> SPEAKER_01 <NA> <NA>\n",
      "SPEAKER audio 1 100.977 0.034 <NA> <NA> SPEAKER_01 <NA> <NA>\n",
      "SPEAKER audio 1 101.112 0.219 <NA> <NA> SPEAKER_01 <NA> <NA>\n",
      "SPEAKER audio 1 103.998 0.911 <NA> <NA> SPEAKER_01 <NA> <NA>\n",
      "SPEAKER audio 1 104.909 7.864 <NA> <NA> SPEAKER_00 <NA> <NA>\n",
      "SPEAKER audio 1 107.795 2.076 <NA> <NA> SPEAKER_01 <NA> <NA>\n",
      "SPEAKER audio 1 112.503 1.620 <NA> <NA> SPEAKER_01 <NA> <NA>\n",
      "SPEAKER audio 1 113.363 2.177 <NA> <NA> SPEAKER_00 <NA> <NA>\n",
      "SPEAKER audio 1 115.490 0.017 <NA> <NA> SPEAKER_01 <NA> <NA>\n",
      "SPEAKER audio 1 115.540 1.536 <NA> <NA> SPEAKER_01 <NA> <NA>\n",
      "SPEAKER audio 1 117.447 1.148 <NA> <NA> SPEAKER_00 <NA> <NA>\n",
      "SPEAKER audio 1 118.983 2.987 <NA> <NA> SPEAKER_00 <NA> <NA>\n",
      "\n"
     ]
    }
   ],
   "source": [
    "with open('output.rttm', 'r') as f:\n",
    "    print(f.read())"
   ]
  },
  {
   "cell_type": "code",
   "execution_count": null,
   "metadata": {},
   "outputs": [],
   "source": []
  }
 ],
 "metadata": {
  "kernelspec": {
   "display_name": "base",
   "language": "python",
   "name": "python3"
  },
  "language_info": {
   "codemirror_mode": {
    "name": "ipython",
    "version": 3
   },
   "file_extension": ".py",
   "mimetype": "text/x-python",
   "name": "python",
   "nbconvert_exporter": "python",
   "pygments_lexer": "ipython3",
   "version": "3.11.3"
  }
 },
 "nbformat": 4,
 "nbformat_minor": 4
}
